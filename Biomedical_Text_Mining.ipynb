{
 "cells": [
  {
   "cell_type": "markdown",
   "metadata": {},
   "source": [
    "# Defining Prediction Tasks for Biomedical Text Mining"
   ]
  },
  {
   "cell_type": "code",
   "execution_count": 1,
   "metadata": {},
   "outputs": [],
   "source": [
    "import json\n",
    "import pandas as pd\n",
    "\n",
    "# processed to JSON format\n",
    "data_dir = \"./baseline/data\""
   ]
  },
  {
   "cell_type": "markdown",
   "metadata": {},
   "source": [
    "## Loading PubMed Toxicogenomics Dataset"
   ]
  },
  {
   "cell_type": "code",
   "execution_count": 2,
   "metadata": {},
   "outputs": [],
   "source": [
    "# PubMed training dataset from PubTator\n",
    "with open(data_dir + \"/train.json\") as f:\n",
    "    train_json = json.loads(f.read())\n",
    "\n",
    "# validation split of 1521 examples (2%)\n",
    "with open(data_dir + \"/valid.json\") as f:\n",
    "    valid_json = json.loads(f.read())\n",
    "\n",
    "# manually curated by biologists (1939)\n",
    "with open(data_dir + \"/test.json\") as f:\n",
    "    test_json = json.loads(f.read())"
   ]
  },
  {
   "cell_type": "code",
   "execution_count": 4,
   "metadata": {},
   "outputs": [],
   "source": [
    "for doc in valid_json:\n",
    "    title_length = len(doc['title'])\n",
    "    for entity in doc['entity']:\n",
    "        entity['label'] = entity.pop('type')\n",
    "\n",
    "for doc in test_json:\n",
    "    title_length = len(doc['title'])\n",
    "    for entity in doc['entity']:\n",
    "        entity['label'] = entity.pop('type')"
   ]
  },
  {
   "cell_type": "code",
   "execution_count": 27,
   "metadata": {},
   "outputs": [
    {
     "data": {
      "text/plain": [
       "{'chem_disease:marker/mechanism': 0,\n",
       " 'chem_disease:therapeutic': 1,\n",
       " 'chem_gene:increases^expression': 2,\n",
       " 'chem_gene:decreases^expression': 3,\n",
       " 'gene_disease:marker/mechanism': 4,\n",
       " 'chem_gene:increases^activity': 5,\n",
       " 'chem_gene:decreases^activity': 6,\n",
       " 'chem_gene:increases^metabolic_processing': 7,\n",
       " 'chem_gene:affects^binding': 8,\n",
       " 'chem_gene:increases^transport': 9,\n",
       " 'chem_gene:decreases^metabolic_processing': 10,\n",
       " 'chem_gene:affects^localization': 11,\n",
       " 'chem_gene:affects^expression': 12,\n",
       " 'gene_disease:therapeutic': 13}"
      ]
     },
     "execution_count": 27,
     "metadata": {},
     "output_type": "execute_result"
    }
   ],
   "source": [
    "# toxicogenomics interactions that are annotated in the dataset \n",
    "relation_map = json.loads(open(data_dir + \"/relation_map.json\").read())\n",
    "relation_map"
   ]
  },
  {
   "cell_type": "markdown",
   "metadata": {},
   "source": [
    "## Entity Recognition"
   ]
  },
  {
   "cell_type": "code",
   "execution_count": null,
   "metadata": {},
   "outputs": [],
   "source": [
    "import spacy\n",
    "# try a new tokenizer for science\n",
    "nlp = spacy.load(\"en_core_sci_sm\")\n",
    "doc = nlp(train_json[1]['abstract'])"
   ]
  },
  {
   "cell_type": "code",
   "execution_count": 29,
   "metadata": {},
   "outputs": [
    {
     "data": {
      "text/html": [
       "<span class=\"tex2jax_ignore\"><h2 style=\"margin: 0\">Tonsil-derived mesenchymal stem cells (T-MSCs) prevent Th17-mediated autoimmune response via regulation of the programmed death-1/programmed death ligand-1 (PD-1/PD-L1) pathway.</h2>\n",
       "\n",
       "<div class=\"entities\" style=\"line-height: 2.5; direction: ltr\">Tonsil-derived mesenchymal stem cells (T-MSCs) prevent Th17-mediated autoimmune response via regulation of the programmed death-1/programmed death ligand-1 (\n",
       "<mark class=\"entity\" style=\"background: #ff6961; padding: 0.45em 0.6em; margin: 0 0.25em; line-height: 1; border-radius: 0.35em;\">\n",
       "    PD-1\n",
       "    <span style=\"font-size: 0.8em; font-weight: bold; line-height: 1; border-radius: 0.35em; vertical-align: middle; margin-left: 0.5rem\">Disease</span>\n",
       "</mark>\n",
       "/\n",
       "<mark class=\"entity\" style=\"background: #85C1E9; padding: 0.45em 0.6em; margin: 0 0.25em; line-height: 1; border-radius: 0.35em;\">\n",
       "    PD-L1\n",
       "    <span style=\"font-size: 0.8em; font-weight: bold; line-height: 1; border-radius: 0.35em; vertical-align: middle; margin-left: 0.5rem\">Gene</span>\n",
       "</mark>\n",
       ") pathway. Our knowledge of the immunomodulatory role of mesenchymal stem cells (MSCs) in both the innate and adaptive immune systems has dramatically expanded, providing great promise for treating various \n",
       "<mark class=\"entity\" style=\"background: #ff6961; padding: 0.45em 0.6em; margin: 0 0.25em; line-height: 1; border-radius: 0.35em;\">\n",
       "    autoimmune diseases\n",
       "    <span style=\"font-size: 0.8em; font-weight: bold; line-height: 1; border-radius: 0.35em; vertical-align: middle; margin-left: 0.5rem\">Disease</span>\n",
       "</mark>\n",
       ". However, the contribution of MSCs to Th17-dominant immune disease, such as \n",
       "<mark class=\"entity\" style=\"background: #ff6961; padding: 0.45em 0.6em; margin: 0 0.25em; line-height: 1; border-radius: 0.35em;\">\n",
       "    psoriasis\n",
       "    <span style=\"font-size: 0.8em; font-weight: bold; line-height: 1; border-radius: 0.35em; vertical-align: middle; margin-left: 0.5rem\">Disease</span>\n",
       "</mark>\n",
       " and its underlying mechanism remains elusive. In this study, we demonstrated that human palatine tonsil-derived MSCs (T-MSCs) constitutively express both the membrane-bound and soluble forms of \n",
       "<mark class=\"entity\" style=\"background: #85C1E9; padding: 0.45em 0.6em; margin: 0 0.25em; line-height: 1; border-radius: 0.35em;\">\n",
       "    programmed death-ligand 1\n",
       "    <span style=\"font-size: 0.8em; font-weight: bold; line-height: 1; border-radius: 0.35em; vertical-align: middle; margin-left: 0.5rem\">Gene</span>\n",
       "</mark>\n",
       " (\n",
       "<mark class=\"entity\" style=\"background: #85C1E9; padding: 0.45em 0.6em; margin: 0 0.25em; line-height: 1; border-radius: 0.35em;\">\n",
       "    PD-L1\n",
       "    <span style=\"font-size: 0.8em; font-weight: bold; line-height: 1; border-radius: 0.35em; vertical-align: middle; margin-left: 0.5rem\">Gene</span>\n",
       "</mark>\n",
       "), which enables T-MSCs to be distinguished from MSCs originating from other organs (i.e. bone marrow or adipose tissue). We also found that T-MSC-derived \n",
       "<mark class=\"entity\" style=\"background: #85C1E9; padding: 0.45em 0.6em; margin: 0 0.25em; line-height: 1; border-radius: 0.35em;\">\n",
       "    PD-L1\n",
       "    <span style=\"font-size: 0.8em; font-weight: bold; line-height: 1; border-radius: 0.35em; vertical-align: middle; margin-left: 0.5rem\">Gene</span>\n",
       "</mark>\n",
       " effectively represses Th17 differentiation via both cell-to-cell contact and a paracrine effect. Further, T-MSCs increase programmed death-1 (\n",
       "<mark class=\"entity\" style=\"background: #ff6961; padding: 0.45em 0.6em; margin: 0 0.25em; line-height: 1; border-radius: 0.35em;\">\n",
       "    PD-1\n",
       "    <span style=\"font-size: 0.8em; font-weight: bold; line-height: 1; border-radius: 0.35em; vertical-align: middle; margin-left: 0.5rem\">Disease</span>\n",
       "</mark>\n",
       ") expression on T-cells by secreting \n",
       "<mark class=\"entity\" style=\"background: #85C1E9; padding: 0.45em 0.6em; margin: 0 0.25em; line-height: 1; border-radius: 0.35em;\">\n",
       "    IFN-beta\n",
       "    <span style=\"font-size: 0.8em; font-weight: bold; line-height: 1; border-radius: 0.35em; vertical-align: middle; margin-left: 0.5rem\">Gene</span>\n",
       "</mark>\n",
       ", which may enhance engagement with \n",
       "<mark class=\"entity\" style=\"background: #85C1E9; padding: 0.45em 0.6em; margin: 0 0.25em; line-height: 1; border-radius: 0.35em;\">\n",
       "    PD-L1\n",
       "    <span style=\"font-size: 0.8em; font-weight: bold; line-height: 1; border-radius: 0.35em; vertical-align: middle; margin-left: 0.5rem\">Gene</span>\n",
       "</mark>\n",
       ". Finally, transplantation of T-MSCs into imiquimod-induced \n",
       "<mark class=\"entity\" style=\"background: #ff6961; padding: 0.45em 0.6em; margin: 0 0.25em; line-height: 1; border-radius: 0.35em;\">\n",
       "    psoriatic skin inflammation\n",
       "    <span style=\"font-size: 0.8em; font-weight: bold; line-height: 1; border-radius: 0.35em; vertical-align: middle; margin-left: 0.5rem\">Disease</span>\n",
       "</mark>\n",
       " in mice significantly abrogated disease symptoms, mainly by blunting the Th17 response in a \n",
       "<mark class=\"entity\" style=\"background: #85C1E9; padding: 0.45em 0.6em; margin: 0 0.25em; line-height: 1; border-radius: 0.35em;\">\n",
       "    PD-L1\n",
       "    <span style=\"font-size: 0.8em; font-weight: bold; line-height: 1; border-radius: 0.35em; vertical-align: middle; margin-left: 0.5rem\">Gene</span>\n",
       "</mark>\n",
       "-dependent manner. This study suggests that T-MSCs might be a promising cell source to treat \n",
       "<mark class=\"entity\" style=\"background: #ff6961; padding: 0.45em 0.6em; margin: 0 0.25em; line-height: 1; border-radius: 0.35em;\">\n",
       "    autoimmune diseases\n",
       "    <span style=\"font-size: 0.8em; font-weight: bold; line-height: 1; border-radius: 0.35em; vertical-align: middle; margin-left: 0.5rem\">Disease</span>\n",
       "</mark>\n",
       " such as \n",
       "<mark class=\"entity\" style=\"background: #ff6961; padding: 0.45em 0.6em; margin: 0 0.25em; line-height: 1; border-radius: 0.35em;\">\n",
       "    psoriasis\n",
       "    <span style=\"font-size: 0.8em; font-weight: bold; line-height: 1; border-radius: 0.35em; vertical-align: middle; margin-left: 0.5rem\">Disease</span>\n",
       "</mark>\n",
       ", via its unique immunoregulatory features. Copyright   2017 John Wiley &amp;amp; Sons, Ltd.</div></span>"
      ],
      "text/plain": [
       "<IPython.core.display.HTML object>"
      ]
     },
     "metadata": {},
     "output_type": "display_data"
    }
   ],
   "source": [
    "from spacy import displacy\n",
    "\n",
    "doc = valid_json[10] # select\n",
    "\n",
    "doc_dict = {\n",
    "    \"title\": doc['title'],\n",
    "    \"text\": doc['title']+\" \"+doc['abstract'],\n",
    "    \"ents\": doc['entity']\n",
    "    }\n",
    "\n",
    "entity_colors = {\n",
    "    \"Chemical\": \"#E9DF85\", \"Disease\": \"#ff6961\", \"Gene\": \"#85C1E9\"\n",
    "    }\n",
    "\n",
    "displacy.render(doc_dict, manual=True, style=\"ent\",\n",
    "                 options={\"colors\": entity_colors})"
   ]
  },
  {
   "cell_type": "code",
   "execution_count": 6,
   "metadata": {},
   "outputs": [
    {
     "data": {
      "text/plain": [
       "[{'type': 'chem_gene:increases^expression',\n",
       "  'subj': 'MESH:C517827',\n",
       "  'obj': '1543'},\n",
       " {'type': 'chem_gene:affects^binding', 'subj': 'MESH:C517827', 'obj': '196'},\n",
       " {'type': 'chem_gene:increases^activity',\n",
       "  'subj': 'MESH:C517827',\n",
       "  'obj': '196'},\n",
       " {'type': 'chem_gene:affects^binding', 'subj': 'MESH:C517827', 'obj': '2099'}]"
      ]
     },
     "execution_count": 6,
     "metadata": {},
     "output_type": "execute_result"
    }
   ],
   "source": [
    "doc['relation']"
   ]
  },
  {
   "cell_type": "markdown",
   "metadata": {},
   "source": [
    "## Relation Extraction"
   ]
  },
  {
   "cell_type": "code",
   "execution_count": 7,
   "metadata": {},
   "outputs": [],
   "source": [
    "import networkx as nx\n",
    "import matplotlib.pyplot as plt\n",
    "\n",
    "source, target, relations = [], [], []\n",
    "\n",
    "for item in doc['relation']:\n",
    "    source.append(item['subj'])\n",
    "    target.append(item['obj'])\n",
    "    relations.append(item['type'])\n",
    "\n",
    "# constructing a knowledge graph on the relations in the document\n",
    "kg_df = pd.DataFrame({'source':source, 'target':target, 'edge':relations})"
   ]
  },
  {
   "cell_type": "code",
   "execution_count": 8,
   "metadata": {},
   "outputs": [
    {
     "data": {
      "text/html": [
       "<div>\n",
       "<style scoped>\n",
       "    .dataframe tbody tr th:only-of-type {\n",
       "        vertical-align: middle;\n",
       "    }\n",
       "\n",
       "    .dataframe tbody tr th {\n",
       "        vertical-align: top;\n",
       "    }\n",
       "\n",
       "    .dataframe thead th {\n",
       "        text-align: right;\n",
       "    }\n",
       "</style>\n",
       "<table border=\"1\" class=\"dataframe\">\n",
       "  <thead>\n",
       "    <tr style=\"text-align: right;\">\n",
       "      <th></th>\n",
       "      <th>source</th>\n",
       "      <th>target</th>\n",
       "      <th>edge</th>\n",
       "    </tr>\n",
       "  </thead>\n",
       "  <tbody>\n",
       "    <tr>\n",
       "      <th>0</th>\n",
       "      <td>MESH:C517827</td>\n",
       "      <td>1543</td>\n",
       "      <td>chem_gene:increases^expression</td>\n",
       "    </tr>\n",
       "    <tr>\n",
       "      <th>1</th>\n",
       "      <td>MESH:C517827</td>\n",
       "      <td>196</td>\n",
       "      <td>chem_gene:affects^binding</td>\n",
       "    </tr>\n",
       "    <tr>\n",
       "      <th>2</th>\n",
       "      <td>MESH:C517827</td>\n",
       "      <td>196</td>\n",
       "      <td>chem_gene:increases^activity</td>\n",
       "    </tr>\n",
       "    <tr>\n",
       "      <th>3</th>\n",
       "      <td>MESH:C517827</td>\n",
       "      <td>2099</td>\n",
       "      <td>chem_gene:affects^binding</td>\n",
       "    </tr>\n",
       "  </tbody>\n",
       "</table>\n",
       "</div>"
      ],
      "text/plain": [
       "         source target                            edge\n",
       "0  MESH:C517827   1543  chem_gene:increases^expression\n",
       "1  MESH:C517827    196       chem_gene:affects^binding\n",
       "2  MESH:C517827    196    chem_gene:increases^activity\n",
       "3  MESH:C517827   2099       chem_gene:affects^binding"
      ]
     },
     "execution_count": 8,
     "metadata": {},
     "output_type": "execute_result"
    }
   ],
   "source": [
    "kg_df"
   ]
  },
  {
   "cell_type": "code",
   "execution_count": 9,
   "metadata": {},
   "outputs": [],
   "source": [
    "G=nx.from_pandas_edgelist(kg_df, \"source\", \"target\", \n",
    "                          edge_attr=True, create_using=nx.MultiDiGraph())"
   ]
  },
  {
   "cell_type": "code",
   "execution_count": 11,
   "metadata": {},
   "outputs": [
    {
     "data": {
      "text/plain": [
       "NodeView(('MESH:C517827', '1543', '196', '2099'))"
      ]
     },
     "execution_count": 11,
     "metadata": {},
     "output_type": "execute_result"
    }
   ],
   "source": [
    "G.nodes"
   ]
  },
  {
   "cell_type": "code",
   "execution_count": 25,
   "metadata": {},
   "outputs": [
    {
     "data": {
      "image/png": "[encoded data removed]",
      "text/plain": [
       "<Figure size 640x480 with 1 Axes>"
      ]
     },
     "metadata": {},
     "output_type": "display_data"
    }
   ],
   "source": [
    "pos = nx.spring_layout(G, seed=42)\n",
    "\n",
    "nx.draw(G, with_labels=True, pos=pos)\n",
    "plt.title('TITLE')\n",
    "plt.axis('on')\n",
    "\n",
    "plt.show()"
   ]
  },
  {
   "cell_type": "code",
   "execution_count": 12,
   "metadata": {},
   "outputs": [],
   "source": []
  }
 ],
 "metadata": {
  "kernelspec": {
   "display_name": "nlp",
   "language": "python",
   "name": "python3"
  },
  "language_info": {
   "codemirror_mode": {
    "name": "ipython",
    "version": 3
   },
   "file_extension": ".py",
   "mimetype": "text/x-python",
   "name": "python",
   "nbconvert_exporter": "python",
   "pygments_lexer": "ipython3",
   "version": "3.10.10"
  },
  "orig_nbformat": 4
 },
 "nbformat": 4,
 "nbformat_minor": 2
}
