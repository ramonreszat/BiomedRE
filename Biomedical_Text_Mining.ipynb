{
 "cells": [
  {
   "cell_type": "markdown",
   "metadata": {},
   "source": [
    "# Defining Prediction Tasks for Biomedical Text Mining"
   ]
  },
  {
   "cell_type": "code",
   "execution_count": 1,
   "metadata": {},
   "outputs": [],
   "source": [
    "import json\n",
    "import pandas as pd\n",
    "\n",
    "# processed to JSON format\n",
    "data_dir = \"./baseline/data\""
   ]
  },
  {
   "cell_type": "markdown",
   "metadata": {},
   "source": [
    "## Loading PubMed Toxicogenomics Dataset"
   ]
  },
  {
   "cell_type": "code",
   "execution_count": 2,
   "metadata": {},
   "outputs": [],
   "source": [
    "# PubMed training dataset from PubTator\n",
    "with open(data_dir + \"/train.json\") as f:\n",
    "    train_json = json.loads(f.read())\n",
    "\n",
    "# validation split of 1521 examples (2%)\n",
    "with open(data_dir + \"/valid.json\") as f:\n",
    "    valid_json = json.loads(f.read())\n",
    "\n",
    "# manually curated by biologists (1939)\n",
    "with open(data_dir + \"/test.json\") as f:\n",
    "    test_json = json.loads(f.read())"
   ]
  },
  {
   "cell_type": "code",
   "execution_count": 3,
   "metadata": {},
   "outputs": [],
   "source": [
    "for doc in valid_json:\n",
    "    title_length = len(doc['title'])\n",
    "    for entity in doc['entity']:\n",
    "        entity['label'] = entity.pop('type')\n",
    "\n",
    "for doc in test_json:\n",
    "    title_length = len(doc['title'])\n",
    "    for entity in doc['entity']:\n",
    "        entity['label'] = entity.pop('type')"
   ]
  },
  {
   "cell_type": "code",
   "execution_count": 4,
   "metadata": {},
   "outputs": [],
   "source": [
    "# toxicogenomics interactions that are annotated in the dataset \n",
    "relation_map = json.loads(open(data_dir + \"/relation_map.json\").read())"
   ]
  },
  {
   "cell_type": "markdown",
   "metadata": {},
   "source": [
    "## Entity Recognition"
   ]
  },
  {
   "cell_type": "code",
   "execution_count": 5,
   "metadata": {},
   "outputs": [],
   "source": [
    "import spacy\n",
    "# try a new tokenizer for science\n",
    "nlp = spacy.load(\"en_core_sci_sm\")\n",
    "doc = nlp(train_json[1]['abstract'])"
   ]
  },
  {
   "cell_type": "code",
   "execution_count": 6,
   "metadata": {},
   "outputs": [
    {
     "data": {
      "text/html": [
       "<span class=\"tex2jax_ignore\"><h2 style=\"margin: 0\">Ultralow doses of dextromethorphan protect mice from endotoxin-induced sepsis-like hepatotoxicity.</h2>\n",
       "\n",
       "<div class=\"entities\" style=\"line-height: 2.5; direction: ltr\">Ultralow doses of \n",
       "<mark class=\"entity\" style=\"background: #E9DF85; padding: 0.45em 0.6em; margin: 0 0.25em; line-height: 1; border-radius: 0.35em;\">\n",
       "    dextromethorphan\n",
       "    <span style=\"font-size: 0.8em; font-weight: bold; line-height: 1; border-radius: 0.35em; vertical-align: middle; margin-left: 0.5rem\">Chemical</span>\n",
       "</mark>\n",
       " protect mice from endotoxin-induced \n",
       "<mark class=\"entity\" style=\"background: #ff6961; padding: 0.45em 0.6em; margin: 0 0.25em; line-height: 1; border-radius: 0.35em;\">\n",
       "    sepsis-like hepatotoxicity\n",
       "    <span style=\"font-size: 0.8em; font-weight: bold; line-height: 1; border-radius: 0.35em; vertical-align: middle; margin-left: 0.5rem\">Disease</span>\n",
       "</mark>\n",
       ". \n",
       "<mark class=\"entity\" style=\"background: #E9DF85; padding: 0.45em 0.6em; margin: 0 0.25em; line-height: 1; border-radius: 0.35em;\">\n",
       "    Dextromethorphan\n",
       "    <span style=\"font-size: 0.8em; font-weight: bold; line-height: 1; border-radius: 0.35em; vertical-align: middle; margin-left: 0.5rem\">Chemical</span>\n",
       "</mark>\n",
       ", a wildly used over-the-counter antitussive drug, is reported to have anti-inflammatory effects. Previously, we and others have demonstrated that \n",
       "<mark class=\"entity\" style=\"background: #E9DF85; padding: 0.45em 0.6em; margin: 0 0.25em; line-height: 1; border-radius: 0.35em;\">\n",
       "    dextromethorphan\n",
       "    <span style=\"font-size: 0.8em; font-weight: bold; line-height: 1; border-radius: 0.35em; vertical-align: middle; margin-left: 0.5rem\">Chemical</span>\n",
       "</mark>\n",
       " at micromolar doses displays potent hepatoprotective effects and enhances mice survival in a \n",
       "<mark class=\"entity\" style=\"background: #ff6961; padding: 0.45em 0.6em; margin: 0 0.25em; line-height: 1; border-radius: 0.35em;\">\n",
       "    sepsis\n",
       "    <span style=\"font-size: 0.8em; font-weight: bold; line-height: 1; border-radius: 0.35em; vertical-align: middle; margin-left: 0.5rem\">Disease</span>\n",
       "</mark>\n",
       " model. Moreover, we also observed potent anti-inflammatory and neuroprotective effects of subpicomolar concentrations of \n",
       "<mark class=\"entity\" style=\"background: #E9DF85; padding: 0.45em 0.6em; margin: 0 0.25em; line-height: 1; border-radius: 0.35em;\">\n",
       "    dextromethorphan\n",
       "    <span style=\"font-size: 0.8em; font-weight: bold; line-height: 1; border-radius: 0.35em; vertical-align: middle; margin-left: 0.5rem\">Chemical</span>\n",
       "</mark>\n",
       " in rodent primary neuron-glial cultures. The purpose of this study was to provide a proof of principle that ultralow dose \n",
       "<mark class=\"entity\" style=\"background: #E9DF85; padding: 0.45em 0.6em; margin: 0 0.25em; line-height: 1; border-radius: 0.35em;\">\n",
       "    dextromethorphan\n",
       "    <span style=\"font-size: 0.8em; font-weight: bold; line-height: 1; border-radius: 0.35em; vertical-align: middle; margin-left: 0.5rem\">Chemical</span>\n",
       "</mark>\n",
       " displays anti-inflammatory and cytoprotective effects in animal studies. Here, we report that subpico- and micromolar doses of \n",
       "<mark class=\"entity\" style=\"background: #E9DF85; padding: 0.45em 0.6em; margin: 0 0.25em; line-height: 1; border-radius: 0.35em;\">\n",
       "    dextromethorphan\n",
       "    <span style=\"font-size: 0.8em; font-weight: bold; line-height: 1; border-radius: 0.35em; vertical-align: middle; margin-left: 0.5rem\">Chemical</span>\n",
       "</mark>\n",
       " showed comparable efficacy in protecting mice from \n",
       "<mark class=\"entity\" style=\"background: #E9DF85; padding: 0.45em 0.6em; margin: 0 0.25em; line-height: 1; border-radius: 0.35em;\">\n",
       "    lipopolysaccharide\n",
       "    <span style=\"font-size: 0.8em; font-weight: bold; line-height: 1; border-radius: 0.35em; vertical-align: middle; margin-left: 0.5rem\">Chemical</span>\n",
       "</mark>\n",
       "/\n",
       "<mark class=\"entity\" style=\"background: #E9DF85; padding: 0.45em 0.6em; margin: 0 0.25em; line-height: 1; border-radius: 0.35em;\">\n",
       "    d-galactosamine\n",
       "    <span style=\"font-size: 0.8em; font-weight: bold; line-height: 1; border-radius: 0.35em; vertical-align: middle; margin-left: 0.5rem\">Chemical</span>\n",
       "</mark>\n",
       " (\n",
       "<mark class=\"entity\" style=\"background: #ff6961; padding: 0.45em 0.6em; margin: 0 0.25em; line-height: 1; border-radius: 0.35em;\">\n",
       "    LPS\n",
       "    <span style=\"font-size: 0.8em; font-weight: bold; line-height: 1; border-radius: 0.35em; vertical-align: middle; margin-left: 0.5rem\">Disease</span>\n",
       "</mark>\n",
       "/\n",
       "<mark class=\"entity\" style=\"background: #85C1E9; padding: 0.45em 0.6em; margin: 0 0.25em; line-height: 1; border-radius: 0.35em;\">\n",
       "    GalN\n",
       "    <span style=\"font-size: 0.8em; font-weight: bold; line-height: 1; border-radius: 0.35em; vertical-align: middle; margin-left: 0.5rem\">Gene</span>\n",
       "</mark>\n",
       ")-induced \n",
       "<mark class=\"entity\" style=\"background: #ff6961; padding: 0.45em 0.6em; margin: 0 0.25em; line-height: 1; border-radius: 0.35em;\">\n",
       "    hepatotoxicity\n",
       "    <span style=\"font-size: 0.8em; font-weight: bold; line-height: 1; border-radius: 0.35em; vertical-align: middle; margin-left: 0.5rem\">Disease</span>\n",
       "</mark>\n",
       " and mortality. Mice were given injections of \n",
       "<mark class=\"entity\" style=\"background: #E9DF85; padding: 0.45em 0.6em; margin: 0 0.25em; line-height: 1; border-radius: 0.35em;\">\n",
       "    dextromethorphan\n",
       "    <span style=\"font-size: 0.8em; font-weight: bold; line-height: 1; border-radius: 0.35em; vertical-align: middle; margin-left: 0.5rem\">Chemical</span>\n",
       "</mark>\n",
       " from 30 min before and 2, 4 h after an injection of \n",
       "<mark class=\"entity\" style=\"background: #ff6961; padding: 0.45em 0.6em; margin: 0 0.25em; line-height: 1; border-radius: 0.35em;\">\n",
       "    LPS\n",
       "    <span style=\"font-size: 0.8em; font-weight: bold; line-height: 1; border-radius: 0.35em; vertical-align: middle; margin-left: 0.5rem\">Disease</span>\n",
       "</mark>\n",
       "/\n",
       "<mark class=\"entity\" style=\"background: #85C1E9; padding: 0.45em 0.6em; margin: 0 0.25em; line-height: 1; border-radius: 0.35em;\">\n",
       "    GalN\n",
       "    <span style=\"font-size: 0.8em; font-weight: bold; line-height: 1; border-radius: 0.35em; vertical-align: middle; margin-left: 0.5rem\">Gene</span>\n",
       "</mark>\n",
       " (20 mug/600 mg/kg). Our results showed that \n",
       "<mark class=\"entity\" style=\"background: #E9DF85; padding: 0.45em 0.6em; margin: 0 0.25em; line-height: 1; border-radius: 0.35em;\">\n",
       "    dextromethorphan\n",
       "    <span style=\"font-size: 0.8em; font-weight: bold; line-height: 1; border-radius: 0.35em; vertical-align: middle; margin-left: 0.5rem\">Chemical</span>\n",
       "</mark>\n",
       " at subpicomolar doses promoted survival rate in \n",
       "<mark class=\"entity\" style=\"background: #ff6961; padding: 0.45em 0.6em; margin: 0 0.25em; line-height: 1; border-radius: 0.35em;\">\n",
       "    LPS\n",
       "    <span style=\"font-size: 0.8em; font-weight: bold; line-height: 1; border-radius: 0.35em; vertical-align: middle; margin-left: 0.5rem\">Disease</span>\n",
       "</mark>\n",
       "/\n",
       "<mark class=\"entity\" style=\"background: #85C1E9; padding: 0.45em 0.6em; margin: 0 0.25em; line-height: 1; border-radius: 0.35em;\">\n",
       "    GalN\n",
       "    <span style=\"font-size: 0.8em; font-weight: bold; line-height: 1; border-radius: 0.35em; vertical-align: middle; margin-left: 0.5rem\">Gene</span>\n",
       "</mark>\n",
       "-injected mice. Ultralow dose \n",
       "<mark class=\"entity\" style=\"background: #E9DF85; padding: 0.45em 0.6em; margin: 0 0.25em; line-height: 1; border-radius: 0.35em;\">\n",
       "    dextromethorphan\n",
       "    <span style=\"font-size: 0.8em; font-weight: bold; line-height: 1; border-radius: 0.35em; vertical-align: middle; margin-left: 0.5rem\">Chemical</span>\n",
       "</mark>\n",
       " also significantly reduced serum alanine aminotransferase activity, \n",
       "<mark class=\"entity\" style=\"background: #85C1E9; padding: 0.45em 0.6em; margin: 0 0.25em; line-height: 1; border-radius: 0.35em;\">\n",
       "    TNF-alpha\n",
       "    <span style=\"font-size: 0.8em; font-weight: bold; line-height: 1; border-radius: 0.35em; vertical-align: middle; margin-left: 0.5rem\">Gene</span>\n",
       "</mark>\n",
       " level and \n",
       "<mark class=\"entity\" style=\"background: #ff6961; padding: 0.45em 0.6em; margin: 0 0.25em; line-height: 1; border-radius: 0.35em;\">\n",
       "    liver cell damage of endotoxemia\n",
       "    <span style=\"font-size: 0.8em; font-weight: bold; line-height: 1; border-radius: 0.35em; vertical-align: middle; margin-left: 0.5rem\">Disease</span>\n",
       "</mark>\n",
       " mice. Mechanistic studies using primary liver Kupffer cell cultures revealed that subpicomolar concentrations of \n",
       "<mark class=\"entity\" style=\"background: #E9DF85; padding: 0.45em 0.6em; margin: 0 0.25em; line-height: 1; border-radius: 0.35em;\">\n",
       "    dextromethorphan\n",
       "    <span style=\"font-size: 0.8em; font-weight: bold; line-height: 1; border-radius: 0.35em; vertical-align: middle; margin-left: 0.5rem\">Chemical</span>\n",
       "</mark>\n",
       " reduced the NADPH oxidase-generated \n",
       "<mark class=\"entity\" style=\"background: #E9DF85; padding: 0.45em 0.6em; margin: 0 0.25em; line-height: 1; border-radius: 0.35em;\">\n",
       "    superoxide\n",
       "    <span style=\"font-size: 0.8em; font-weight: bold; line-height: 1; border-radius: 0.35em; vertical-align: middle; margin-left: 0.5rem\">Chemical</span>\n",
       "</mark>\n",
       " free \n",
       "<mark class=\"entity\" style=\"background: #E9DF85; padding: 0.45em 0.6em; margin: 0 0.25em; line-height: 1; border-radius: 0.35em;\">\n",
       "    radicals\n",
       "    <span style=\"font-size: 0.8em; font-weight: bold; line-height: 1; border-radius: 0.35em; vertical-align: middle; margin-left: 0.5rem\">Chemical</span>\n",
       "</mark>\n",
       " from Kupffer cells, which in turn reduced the elevation of its downstream \n",
       "<mark class=\"entity\" style=\"background: #E9DF85; padding: 0.45em 0.6em; margin: 0 0.25em; line-height: 1; border-radius: 0.35em;\">\n",
       "    reactive oxygen species\n",
       "    <span style=\"font-size: 0.8em; font-weight: bold; line-height: 1; border-radius: 0.35em; vertical-align: middle; margin-left: 0.5rem\">Chemical</span>\n",
       "</mark>\n",
       " (iROS) to relieve the oxidative stress and decreased \n",
       "<mark class=\"entity\" style=\"background: #85C1E9; padding: 0.45em 0.6em; margin: 0 0.25em; line-height: 1; border-radius: 0.35em;\">\n",
       "    TNF-alpha\n",
       "    <span style=\"font-size: 0.8em; font-weight: bold; line-height: 1; border-radius: 0.35em; vertical-align: middle; margin-left: 0.5rem\">Gene</span>\n",
       "</mark>\n",
       " production in Kupffer cells. Taken together, these findings suggest a novel therapeutic concept of using ultralow doses of \n",
       "<mark class=\"entity\" style=\"background: #E9DF85; padding: 0.45em 0.6em; margin: 0 0.25em; line-height: 1; border-radius: 0.35em;\">\n",
       "    dextromethorphan\n",
       "    <span style=\"font-size: 0.8em; font-weight: bold; line-height: 1; border-radius: 0.35em; vertical-align: middle; margin-left: 0.5rem\">Chemical</span>\n",
       "</mark>\n",
       " for the intervention of \n",
       "<mark class=\"entity\" style=\"background: #ff6961; padding: 0.45em 0.6em; margin: 0 0.25em; line-height: 1; border-radius: 0.35em;\">\n",
       "    sepsis\n",
       "    <span style=\"font-size: 0.8em; font-weight: bold; line-height: 1; border-radius: 0.35em; vertical-align: middle; margin-left: 0.5rem\">Disease</span>\n",
       "</mark>\n",
       " or \n",
       "<mark class=\"entity\" style=\"background: #ff6961; padding: 0.45em 0.6em; margin: 0 0.25em; line-height: 1; border-radius: 0.35em;\">\n",
       "    septic shock\n",
       "    <span style=\"font-size: 0.8em; font-weight: bold; line-height: 1; border-radius: 0.35em; vertical-align: middle; margin-left: 0.5rem\">Disease</span>\n",
       "</mark>\n",
       ".</div></span>"
      ],
      "text/plain": [
       "<IPython.core.display.HTML object>"
      ]
     },
     "metadata": {},
     "output_type": "display_data"
    }
   ],
   "source": [
    "from spacy import displacy\n",
    "\n",
    "doc = test_json[525] # select\n",
    "\n",
    "doc_dict = {\n",
    "    \"title\": doc['title'],\n",
    "    \"text\": doc['title']+\" \"+doc['abstract'],\n",
    "    \"ents\": doc['entity']\n",
    "    }\n",
    "\n",
    "entity_colors = {\n",
    "    \"Chemical\": \"#E9DF85\", \"Disease\": \"#ff6961\", \"Gene\": \"#85C1E9\"\n",
    "    }\n",
    "\n",
    "displacy.render(doc_dict, manual=True, style=\"ent\",\n",
    "                 options={\"colors\": entity_colors})"
   ]
  },
  {
   "cell_type": "code",
   "execution_count": 16,
   "metadata": {},
   "outputs": [
    {
     "data": {
      "text/plain": [
       "[{'type': 'chem_disease:therapeutic',\n",
       "  'subj': 'MESH:D003915',\n",
       "  'obj': 'MESH:D056486'},\n",
       " {'type': 'chem_disease:marker/mechanism',\n",
       "  'subj': 'MESH:D005688',\n",
       "  'obj': 'MESH:D018805'},\n",
       " {'type': 'chem_disease:marker/mechanism',\n",
       "  'subj': 'MESH:D005688',\n",
       "  'obj': 'MESH:D056486'}]"
      ]
     },
     "execution_count": 16,
     "metadata": {},
     "output_type": "execute_result"
    }
   ],
   "source": [
    "doc['relation']"
   ]
  },
  {
   "cell_type": "markdown",
   "metadata": {},
   "source": [
    "## Relation Extraction"
   ]
  },
  {
   "cell_type": "code",
   "execution_count": 8,
   "metadata": {},
   "outputs": [],
   "source": [
    "import networkx as nx\n",
    "import matplotlib.pyplot as plt\n",
    "\n",
    "source, target, relations = [], [], []\n",
    "\n",
    "for item in doc['relation']:\n",
    "    source.append(item['subj'])\n",
    "    target.append(item['obj'])\n",
    "    relations.append(item['type'])\n",
    "\n",
    "# constructing a knowledge graph on the relations in the document\n",
    "kg_df = pd.DataFrame({'source':source, 'target':target, 'edge':relations})"
   ]
  },
  {
   "cell_type": "code",
   "execution_count": 9,
   "metadata": {},
   "outputs": [
    {
     "data": {
      "text/html": [
       "<div>\n",
       "<style scoped>\n",
       "    .dataframe tbody tr th:only-of-type {\n",
       "        vertical-align: middle;\n",
       "    }\n",
       "\n",
       "    .dataframe tbody tr th {\n",
       "        vertical-align: top;\n",
       "    }\n",
       "\n",
       "    .dataframe thead th {\n",
       "        text-align: right;\n",
       "    }\n",
       "</style>\n",
       "<table border=\"1\" class=\"dataframe\">\n",
       "  <thead>\n",
       "    <tr style=\"text-align: right;\">\n",
       "      <th></th>\n",
       "      <th>source</th>\n",
       "      <th>target</th>\n",
       "      <th>edge</th>\n",
       "    </tr>\n",
       "  </thead>\n",
       "  <tbody>\n",
       "    <tr>\n",
       "      <th>0</th>\n",
       "      <td>MESH:D003915</td>\n",
       "      <td>MESH:D056486</td>\n",
       "      <td>chem_disease:therapeutic</td>\n",
       "    </tr>\n",
       "    <tr>\n",
       "      <th>1</th>\n",
       "      <td>MESH:D005688</td>\n",
       "      <td>MESH:D018805</td>\n",
       "      <td>chem_disease:marker/mechanism</td>\n",
       "    </tr>\n",
       "    <tr>\n",
       "      <th>2</th>\n",
       "      <td>MESH:D005688</td>\n",
       "      <td>MESH:D056486</td>\n",
       "      <td>chem_disease:marker/mechanism</td>\n",
       "    </tr>\n",
       "  </tbody>\n",
       "</table>\n",
       "</div>"
      ],
      "text/plain": [
       "         source        target                           edge\n",
       "0  MESH:D003915  MESH:D056486       chem_disease:therapeutic\n",
       "1  MESH:D005688  MESH:D018805  chem_disease:marker/mechanism\n",
       "2  MESH:D005688  MESH:D056486  chem_disease:marker/mechanism"
      ]
     },
     "execution_count": 9,
     "metadata": {},
     "output_type": "execute_result"
    }
   ],
   "source": [
    "kg_df # TODO: naming and annotation"
   ]
  },
  {
   "cell_type": "code",
   "execution_count": 10,
   "metadata": {},
   "outputs": [
    {
     "data": {
      "text/plain": [
       "{'chem_disease:marker/mechanism': 0,\n",
       " 'chem_disease:therapeutic': 1,\n",
       " 'chem_gene:increases^expression': 2,\n",
       " 'chem_gene:decreases^expression': 3,\n",
       " 'gene_disease:marker/mechanism': 4,\n",
       " 'chem_gene:increases^activity': 5,\n",
       " 'chem_gene:decreases^activity': 6,\n",
       " 'chem_gene:increases^metabolic_processing': 7,\n",
       " 'chem_gene:affects^binding': 8,\n",
       " 'chem_gene:increases^transport': 9,\n",
       " 'chem_gene:decreases^metabolic_processing': 10,\n",
       " 'chem_gene:affects^localization': 11,\n",
       " 'chem_gene:affects^expression': 12,\n",
       " 'gene_disease:therapeutic': 13}"
      ]
     },
     "execution_count": 10,
     "metadata": {},
     "output_type": "execute_result"
    }
   ],
   "source": [
    "relation_map # rename the edges"
   ]
  },
  {
   "cell_type": "code",
   "execution_count": 11,
   "metadata": {},
   "outputs": [],
   "source": [
    "G=nx.from_pandas_edgelist(kg_df, \"source\", \"target\", \n",
    "                          edge_attr=True, create_using=nx.MultiDiGraph())"
   ]
  },
  {
   "cell_type": "code",
   "execution_count": 19,
   "metadata": {},
   "outputs": [
    {
     "data": {
      "image/png": "[encoded data removed]",
      "text/plain": [
       "<Figure size 640x480 with 1 Axes>"
      ]
     },
     "metadata": {},
     "output_type": "display_data"
    }
   ],
   "source": [
    "pos = nx.spring_layout(G, seed=42)\n",
    "\n",
    "nx.draw(G, with_labels=True, pos=pos)\n",
    "plt.title('Document: '+doc['docid'])\n",
    "plt.axis('on')\n",
    "\n",
    "plt.show()"
   ]
  },
  {
   "cell_type": "markdown",
   "metadata": {},
   "source": [
    "## Manual Curation"
   ]
  },
  {
   "cell_type": "markdown",
   "metadata": {},
   "source": [
    "Construct a network representation from the corpus of 523 abstracts, with entity mentions from PubTator Central that were *manually curated* by a team of biologists."
   ]
  },
  {
   "cell_type": "code",
   "execution_count": 30,
   "metadata": {},
   "outputs": [],
   "source": [
    "# collect information for network analysis\n",
    "docids, source, target, relations = [], [], [], []\n",
    "\n",
    "# create edge list\n",
    "for doc in test_json:\n",
    "    for rel in doc['relation']:\n",
    "        docids.append(doc['docid'])\n",
    "        source.append(rel['subj'])\n",
    "        target.append(rel['obj'])\n",
    "        relations.append(rel['type'])\n",
    "\n",
    "# constructing a knowledge graph on the relations in the document\n",
    "kg_df = pd.DataFrame({'document': docids, 'source':source, 'target':target, 'edge':relations})"
   ]
  },
  {
   "cell_type": "code",
   "execution_count": 32,
   "metadata": {},
   "outputs": [
    {
     "data": {
      "text/html": [
       "<div>\n",
       "<style scoped>\n",
       "    .dataframe tbody tr th:only-of-type {\n",
       "        vertical-align: middle;\n",
       "    }\n",
       "\n",
       "    .dataframe tbody tr th {\n",
       "        vertical-align: top;\n",
       "    }\n",
       "\n",
       "    .dataframe thead th {\n",
       "        text-align: right;\n",
       "    }\n",
       "</style>\n",
       "<table border=\"1\" class=\"dataframe\">\n",
       "  <thead>\n",
       "    <tr style=\"text-align: right;\">\n",
       "      <th></th>\n",
       "      <th>document</th>\n",
       "      <th>source</th>\n",
       "      <th>target</th>\n",
       "      <th>edge</th>\n",
       "    </tr>\n",
       "  </thead>\n",
       "  <tbody>\n",
       "    <tr>\n",
       "      <th>0</th>\n",
       "      <td>29883990</td>\n",
       "      <td>MESH:C103505</td>\n",
       "      <td>1268</td>\n",
       "      <td>chem_gene:decreases^activity</td>\n",
       "    </tr>\n",
       "    <tr>\n",
       "      <th>1</th>\n",
       "      <td>29883990</td>\n",
       "      <td>MESH:C103505</td>\n",
       "      <td>4313</td>\n",
       "      <td>chem_gene:increases^expression</td>\n",
       "    </tr>\n",
       "    <tr>\n",
       "      <th>2</th>\n",
       "      <td>29902480</td>\n",
       "      <td>3569</td>\n",
       "      <td>MESH:D001249</td>\n",
       "      <td>gene_disease:marker/mechanism</td>\n",
       "    </tr>\n",
       "    <tr>\n",
       "      <th>3</th>\n",
       "      <td>29953732</td>\n",
       "      <td>MESH:D013311</td>\n",
       "      <td>MESH:D005355</td>\n",
       "      <td>chem_disease:marker/mechanism</td>\n",
       "    </tr>\n",
       "    <tr>\n",
       "      <th>4</th>\n",
       "      <td>30020114</td>\n",
       "      <td>MESH:D001564</td>\n",
       "      <td>595</td>\n",
       "      <td>chem_gene:increases^expression</td>\n",
       "    </tr>\n",
       "    <tr>\n",
       "      <th>...</th>\n",
       "      <td>...</td>\n",
       "      <td>...</td>\n",
       "      <td>...</td>\n",
       "      <td>...</td>\n",
       "    </tr>\n",
       "    <tr>\n",
       "      <th>5111</th>\n",
       "      <td>33146391</td>\n",
       "      <td>MESH:D010126</td>\n",
       "      <td>2321</td>\n",
       "      <td>chem_gene:increases^transport</td>\n",
       "    </tr>\n",
       "    <tr>\n",
       "      <th>5112</th>\n",
       "      <td>33146391</td>\n",
       "      <td>MESH:D010126</td>\n",
       "      <td>4319</td>\n",
       "      <td>chem_gene:decreases^expression</td>\n",
       "    </tr>\n",
       "    <tr>\n",
       "      <th>5113</th>\n",
       "      <td>33149750</td>\n",
       "      <td>MESH:D008070</td>\n",
       "      <td>5742</td>\n",
       "      <td>chem_gene:increases^expression</td>\n",
       "    </tr>\n",
       "    <tr>\n",
       "      <th>5114</th>\n",
       "      <td>33259630</td>\n",
       "      <td>MESH:D002104</td>\n",
       "      <td>MESH:D009765</td>\n",
       "      <td>chem_disease:marker/mechanism</td>\n",
       "    </tr>\n",
       "    <tr>\n",
       "      <th>5115</th>\n",
       "      <td>33259630</td>\n",
       "      <td>MESH:D002104</td>\n",
       "      <td>MESH:D024821</td>\n",
       "      <td>chem_disease:marker/mechanism</td>\n",
       "    </tr>\n",
       "  </tbody>\n",
       "</table>\n",
       "<p>5116 rows × 4 columns</p>\n",
       "</div>"
      ],
      "text/plain": [
       "      document        source        target                            edge\n",
       "0     29883990  MESH:C103505          1268    chem_gene:decreases^activity\n",
       "1     29883990  MESH:C103505          4313  chem_gene:increases^expression\n",
       "2     29902480          3569  MESH:D001249   gene_disease:marker/mechanism\n",
       "3     29953732  MESH:D013311  MESH:D005355   chem_disease:marker/mechanism\n",
       "4     30020114  MESH:D001564           595  chem_gene:increases^expression\n",
       "...        ...           ...           ...                             ...\n",
       "5111  33146391  MESH:D010126          2321   chem_gene:increases^transport\n",
       "5112  33146391  MESH:D010126          4319  chem_gene:decreases^expression\n",
       "5113  33149750  MESH:D008070          5742  chem_gene:increases^expression\n",
       "5114  33259630  MESH:D002104  MESH:D009765   chem_disease:marker/mechanism\n",
       "5115  33259630  MESH:D002104  MESH:D024821   chem_disease:marker/mechanism\n",
       "\n",
       "[5116 rows x 4 columns]"
      ]
     },
     "execution_count": 32,
     "metadata": {},
     "output_type": "execute_result"
    }
   ],
   "source": [
    "kg_df"
   ]
  },
  {
   "cell_type": "code",
   "execution_count": null,
   "metadata": {},
   "outputs": [],
   "source": [
    "# What can i do with this graph?\n",
    "# 1. Analyze clusters in the gene-disease network\n",
    "# 2. Align parts of the network with Wikipathways"
   ]
  }
 ],
 "metadata": {
  "kernelspec": {
   "display_name": "nlp",
   "language": "python",
   "name": "python3"
  },
  "language_info": {
   "codemirror_mode": {
    "name": "ipython",
    "version": 3
   },
   "file_extension": ".py",
   "mimetype": "text/x-python",
   "name": "python",
   "nbconvert_exporter": "python",
   "pygments_lexer": "ipython3",
   "version": "3.10.10"
  },
  "orig_nbformat": 4
 },
 "nbformat": 4,
 "nbformat_minor": 2
}
