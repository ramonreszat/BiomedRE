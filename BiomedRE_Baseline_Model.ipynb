{
 "cells": [
  {
   "cell_type": "markdown",
   "id": "4e45c6b2",
   "metadata": {},
   "source": [
    "# Biomedical Relationship Extraction from Scientific Literature"
   ]
  },
  {
   "cell_type": "markdown",
   "id": "d068f741",
   "metadata": {},
   "source": [
    "This notebook describes a baseline BERT model that can be trained to extract relationships from PubMed articles."
   ]
  },
  {
   "cell_type": "code",
   "execution_count": 1,
   "id": "0824c673",
   "metadata": {},
   "outputs": [],
   "source": [
    "import sys, torch, logging\n",
    "\n",
    "# fix random seed\n",
    "torch.manual_seed(0)\n",
    "\n",
    "# MacOS Metal Framework (MPS)\n",
    "device = torch.device(\"cpu\")\n",
    "\n",
    "# log level for experiment\n",
    "logger = logging.getLogger(\"BioRE\")\n",
    "\n",
    "# code for the baseline model\n",
    "sys.path.append(\"./baseline/src\")"
   ]
  },
  {
   "cell_type": "markdown",
   "id": "cc31d83c",
   "metadata": {},
   "source": [
    "## Batch processing of sequences and relations"
   ]
  },
  {
   "cell_type": "code",
   "execution_count": 2,
   "id": "8817a22a",
   "metadata": {},
   "outputs": [
    {
     "name": "stderr",
     "output_type": "stream",
     "text": [
      "100%|██████████| 76942/76942 [03:16<00:00, 391.67it/s] \n",
      "100%|██████████| 1521/1521 [00:05<00:00, 267.43it/s]\n",
      "100%|██████████| 1939/1939 [00:07<00:00, 251.95it/s]\n",
      "100%|██████████| 523/523 [00:02<00:00, 255.79it/s]\n",
      "100%|██████████| 523/523 [00:02<00:00, 256.29it/s]\n"
     ]
    }
   ],
   "source": [
    "from transformers import AutoTokenizer\n",
    "from module.data_loader import Dataloader\n",
    "\n",
    "tokenizer = AutoTokenizer.from_pretrained('microsoft/BiomedNLP-PubMedBERT-base-uncased-abstract', use_fast=True)\n",
    "\n",
    "# \n",
    "train_loader = Dataloader('./baseline/data', tokenizer, batch_size=2,\n",
    "        max_text_length=512, training=True, logger=logger, lowercase=True)"
   ]
  },
  {
   "cell_type": "code",
   "execution_count": 3,
   "id": "7d205eca",
   "metadata": {},
   "outputs": [],
   "source": [
    "(num, return_data) = next(iter(train_loader))\n",
    "\n",
    "(input_ids, attention_mask, ep_masks, e1_indicators, e2_indicators, label_arrays) = return_data"
   ]
  },
  {
   "cell_type": "markdown",
   "id": "e67cede7",
   "metadata": {},
   "source": [
    "One way to approach this might be to pad the number of entity pairs to *max_num_ep*. This would limit the number of relationships that can be retrieved per document, but would allow us to process multiple sequences per batch and *not waste valuable GPU cycles*."
   ]
  },
  {
   "cell_type": "code",
   "execution_count": 4,
   "id": "788f0bb5",
   "metadata": {},
   "outputs": [
    {
     "data": {
      "text/plain": [
       "tensor([[    2,  3189,  5527,  ...,     0,     0,     3],\n",
       "        [    2, 21651,  4507,  ...,     0,     0,     3]])"
      ]
     },
     "execution_count": 4,
     "metadata": {},
     "output_type": "execute_result"
    }
   ],
   "source": [
    "input_ids = input_ids.to(device)\n",
    "input_ids"
   ]
  },
  {
   "cell_type": "code",
   "execution_count": 5,
   "id": "ee8edee8",
   "metadata": {},
   "outputs": [
    {
     "data": {
      "text/plain": [
       "tensor([[1, 1, 1,  ..., 0, 0, 1],\n",
       "        [1, 1, 1,  ..., 0, 0, 1]])"
      ]
     },
     "execution_count": 5,
     "metadata": {},
     "output_type": "execute_result"
    }
   ],
   "source": [
    "attention_mask = attention_mask.to(device)\n",
    "attention_mask"
   ]
  },
  {
   "cell_type": "code",
   "execution_count": 6,
   "id": "35d241ec",
   "metadata": {},
   "outputs": [],
   "source": [
    "ep_masks = ep_masks.to(device)\n",
    "labels = label_arrays.to(device)"
   ]
  },
  {
   "cell_type": "code",
   "execution_count": 7,
   "id": "224aada5",
   "metadata": {},
   "outputs": [],
   "source": [
    "# TODO: put this in the data loader\n",
    "ep_masks = ep_masks.unsqueeze(4)"
   ]
  },
  {
   "cell_type": "markdown",
   "id": "fe738299",
   "metadata": {},
   "source": [
    "## Constructing a baseline BERT model"
   ]
  },
  {
   "cell_type": "code",
   "execution_count": 8,
   "id": "e23a6a83",
   "metadata": {},
   "outputs": [
    {
     "name": "stdout",
     "output_type": "stream",
     "text": [
      "Orthogonal pretrainer loss: 3.20e-12\n"
     ]
    },
    {
     "data": {
      "text/plain": [
       "=========================================================================================================\n",
       "Layer (type:depth-idx)                                  Output Shape              Param #\n",
       "=========================================================================================================\n",
       "Model                                                   [2, 1, 512, 512, 15]      245,760\n",
       "├─BertModel: 1-1                                        [2, 768]                  --\n",
       "│    └─BertEmbeddings: 2-1                              [2, 512, 768]             --\n",
       "│    │    └─Embedding: 3-1                              [2, 512, 768]             23,440,896\n",
       "│    │    └─Embedding: 3-2                              [2, 512, 768]             1,536\n",
       "│    │    └─Embedding: 3-3                              [1, 512, 768]             393,216\n",
       "│    │    └─LayerNorm: 3-4                              [2, 512, 768]             1,536\n",
       "│    │    └─Dropout: 3-5                                [2, 512, 768]             --\n",
       "│    └─BertEncoder: 2-2                                 [2, 512, 768]             --\n",
       "│    │    └─ModuleList: 3-6                             --                        85,054,464\n",
       "│    └─BertPooler: 2-3                                  [2, 768]                  --\n",
       "│    │    └─Linear: 3-7                                 [2, 768]                  590,592\n",
       "│    │    └─Tanh: 3-8                                   [2, 768]                  --\n",
       "├─Linear: 1-2                                           [2, 512, 768]             590,592\n",
       "├─ReLU: 1-3                                             [2, 512, 768]             --\n",
       "├─Linear: 1-4                                           [2, 512, 128]             98,432\n",
       "├─Linear: 1-5                                           [2, 512, 768]             590,592\n",
       "├─ReLU: 1-6                                             [2, 512, 768]             --\n",
       "├─Linear: 1-7                                           [2, 512, 128]             98,432\n",
       "=========================================================================================================\n",
       "Total params: 111,106,048\n",
       "Trainable params: 111,106,048\n",
       "Non-trainable params: 0\n",
       "Total mult-adds (M): 221.33\n",
       "=========================================================================================================\n",
       "Input size (MB): 0.01\n",
       "Forward/backward pass size (MB): 867.18\n",
       "Params size (MB): 443.44\n",
       "Estimated Total Size (MB): 1310.63\n",
       "========================================================================================================="
      ]
     },
     "execution_count": 8,
     "metadata": {},
     "output_type": "execute_result"
    }
   ],
   "source": [
    "from torchinfo import summary\n",
    "from module.model import Model\n",
    "\n",
    "model = Model({'data_path': './baseline/data', 'learning_rate': 1e-05, 'mode': 'train', 'encoder_type': 'microsoft/BiomedNLP-PubMedBERT-base-uncased-abstract',\n",
    "          'model': 'biaffine', 'output_path': '', 'load_path': '', 'multi_label': True, 'grad_accumulation_steps': 16, 'max_text_length': 512, \n",
    "          'dim': 128, 'weight_decay': 0.0001, 'dropout_rate': 0.1, 'max_grad_norm': 10.0, 'epochs': 10, 'patience': 5, 'log_interval': 0.25, \n",
    "          'warmup': -1.0, 'cuda': True})\n",
    "\n",
    "# nn.Module\n",
    "model.to(device)\n",
    "\n",
    "summary(model, input_size=[(2, 512), (2, 512)], dtypes=['torch.IntTensor', 'torch.IntTensor'])"
   ]
  },
  {
   "cell_type": "markdown",
   "id": "dc2d9577",
   "metadata": {},
   "source": [
    "## Overfitting one batch of training data"
   ]
  },
  {
   "cell_type": "code",
   "execution_count": 9,
   "id": "6fafeab6",
   "metadata": {},
   "outputs": [],
   "source": [
    "# Adam with integrated weight decay regularization\n",
    "optimizer = torch.optim.AdamW(model.parameters(), lr=1e-05,\n",
    "                  weight_decay=0.0001, eps=1e-8)\n",
    "\n",
    "# y is 1 or 0, x is 1-d logit\n",
    "bcelogitloss = torch.nn.BCEWithLogitsLoss() "
   ]
  },
  {
   "cell_type": "code",
   "execution_count": 10,
   "id": "7291ad42",
   "metadata": {},
   "outputs": [],
   "source": [
    "# \n",
    "model.encoder.to(device)\n",
    "\n",
    "#\n",
    "model.head_layer0.to(device)\n",
    "model.head_layer1.to(device)\n",
    "model.tail_layer0.to(device)\n",
    "model.tail_layer1.to(device)\n",
    "\n",
    "#\n",
    "model.biaffine_mat = torch.nn.Parameter(model.biaffine_mat.to(device))"
   ]
  },
  {
   "cell_type": "code",
   "execution_count": 11,
   "id": "a7a05808",
   "metadata": {},
   "outputs": [
    {
     "name": "stderr",
     "output_type": "stream",
     "text": [
      "Training: 100%|██████████| 10/10 [00:52<00:00,  5.24s/it]\n"
     ]
    }
   ],
   "source": [
    "from tqdm import tqdm\n",
    "\n",
    "epochs = 10\n",
    "training_loss = []\n",
    "\n",
    "# training a single batch\n",
    "for i in tqdm(range(0, epochs), desc=\"Training\"):\n",
    "    \n",
    "    # reset gradients\n",
    "    optimizer.zero_grad()\n",
    "    \n",
    "    # pairwise relations (N, max_length, max_length, R+1)\n",
    "    pairwise_scores = model(input_ids, attention_mask)\n",
    "    \n",
    "    # broadcast predictions (N, 1, max_num_eps, R+1)\n",
    "    pairwise_scores = pairwise_scores + ep_masks\n",
    "    \n",
    "    # \n",
    "    pairwise_scores = torch.logsumexp(pairwise_scores, dim=[2,3])\n",
    "    \n",
    "    # multi-label logits (N, num_ep, R)\n",
    "    scores = pairwise_scores[:, :, :-1]\n",
    "    \n",
    "    # sigmoid and binary-cross entropy\n",
    "    loss = bcelogitloss(scores, labels)\n",
    "    loss.backward()\n",
    "    \n",
    "    # change weights\n",
    "    optimizer.step()\n",
    "    \n",
    "    # \n",
    "    training_loss.append(loss.item())"
   ]
  },
  {
   "cell_type": "code",
   "execution_count": 12,
   "id": "95716059",
   "metadata": {},
   "outputs": [
    {
     "data": {
      "text/plain": [
       "[0.8361715078353882,\n",
       " 0.6210440993309021,\n",
       " 0.4343566596508026,\n",
       " 0.30835989117622375,\n",
       " 0.18467891216278076,\n",
       " 0.11713247746229172,\n",
       " 0.06534256786108017,\n",
       " 0.045416899025440216,\n",
       " 0.027115827426314354,\n",
       " 0.01943390630185604]"
      ]
     },
     "execution_count": 12,
     "metadata": {},
     "output_type": "execute_result"
    }
   ],
   "source": [
    "training_loss"
   ]
  },
  {
   "cell_type": "code",
   "execution_count": null,
   "id": "d5a2e9c3",
   "metadata": {},
   "outputs": [],
   "source": [
    "np.array(tokenizer.convert_ids_to_tokens(input_ids[0].numpy()))"
   ]
  },
  {
   "cell_type": "code",
   "execution_count": 18,
   "id": "d22627be",
   "metadata": {},
   "outputs": [],
   "source": [
    "# TODO: visualize prediction\n",
    "y_pred = torch.sigmoid(scores)"
   ]
  }
 ],
 "metadata": {
  "kernelspec": {
   "display_name": "Python 3 (ipykernel)",
   "language": "python",
   "name": "python3"
  },
  "language_info": {
   "codemirror_mode": {
    "name": "ipython",
    "version": 3
   },
   "file_extension": ".py",
   "mimetype": "text/x-python",
   "name": "python",
   "nbconvert_exporter": "python",
   "pygments_lexer": "ipython3",
   "version": "3.10.10"
  }
 },
 "nbformat": 4,
 "nbformat_minor": 5
}
